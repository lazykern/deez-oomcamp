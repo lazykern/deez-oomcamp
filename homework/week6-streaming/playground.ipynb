{
 "cells": [
  {
   "cell_type": "code",
   "execution_count": 71,
   "metadata": {},
   "outputs": [],
   "source": [
    "import polars as pl\n",
    "import pyspark\n",
    "from pyspark.sql.types import StructType,StructField,StringType,IntegerType,FloatType,TimestampType"
   ]
  },
  {
   "cell_type": "code",
   "execution_count": 72,
   "metadata": {},
   "outputs": [],
   "source": [
    "green_trip = pl.read_csv_batched('./data/green_tripdata_2019-01.csv',batch_size=1,try_parse_dates=True)"
   ]
  },
  {
   "cell_type": "code",
   "execution_count": 73,
   "metadata": {},
   "outputs": [],
   "source": [
    "fhv_batch = pl.read_csv_batched('./data/fhv_tripdata_2019-01.csv',batch_size=1,try_parse_dates=True)"
   ]
  },
  {
   "cell_type": "code",
   "execution_count": 74,
   "metadata": {},
   "outputs": [
    {
     "data": {
      "text/plain": [
       "{'VendorID': Int64,\n",
       " 'lpep_pickup_datetime': Datetime(time_unit='us', time_zone=None),\n",
       " 'lpep_dropoff_datetime': Datetime(time_unit='us', time_zone=None),\n",
       " 'store_and_fwd_flag': Utf8,\n",
       " 'RatecodeID': Int64,\n",
       " 'PULocationID': Int64,\n",
       " 'DOLocationID': Int64,\n",
       " 'passenger_count': Int64,\n",
       " 'trip_distance': Float64,\n",
       " 'fare_amount': Float64,\n",
       " 'extra': Float64,\n",
       " 'mta_tax': Float64,\n",
       " 'tip_amount': Float64,\n",
       " 'tolls_amount': Float64,\n",
       " 'ehail_fee': Utf8,\n",
       " 'improvement_surcharge': Float64,\n",
       " 'total_amount': Float64,\n",
       " 'payment_type': Int64,\n",
       " 'trip_type': Int64,\n",
       " 'congestion_surcharge': Utf8}"
      ]
     },
     "execution_count": 74,
     "metadata": {},
     "output_type": "execute_result"
    }
   ],
   "source": [
    "green_trip.next_batches(1)[0].schema"
   ]
  },
  {
   "cell_type": "code",
   "execution_count": 76,
   "metadata": {},
   "outputs": [],
   "source": [
    "# {'VendorID': Int64,\n",
    "#  'lpep_pickup_datetime': Datetime(time_unit='us', time_zone=None),\n",
    "#  'lpep_dropoff_datetime': Datetime(time_unit='us', time_zone=None),\n",
    "#  'store_and_fwd_flag': Utf8,\n",
    "#  'RatecodeID': Int64,\n",
    "#  'PULocationID': Int64,\n",
    "#  'DOLocationID': Int64,\n",
    "#  'passenger_count': Int64,\n",
    "#  'trip_distance': Float64,\n",
    "#  'fare_amount': Float64,\n",
    "#  'extra': Float64,\n",
    "#  'mta_tax': Float64,\n",
    "#  'tip_amount': Float64,\n",
    "#  'tolls_amount': Float64,\n",
    "#  'ehail_fee': Utf8,\n",
    "#  'improvement_surcharge': Float64,\n",
    "#  'total_amount': Float64,\n",
    "#  'payment_type': Int64,\n",
    "#  'trip_type': Int64,\n",
    "#  'congestion_surcharge': Utf8}\n",
    "\n",
    "GREEN_SCHEMA = StructType([\n",
    "    StructField(\"VendorID\", StringType(), True),\n",
    "    StructField(\"lpep_pickup_datetime\", TimestampType(), True),\n",
    "    StructField(\"lpep_dropoff_datetime\", TimestampType(), True),\n",
    "    StructField(\"store_and_fwd_flag\", StringType(), True),\n",
    "    StructField(\"RatecodeID\", StringType(), True),\n",
    "    StructField(\"PULocationID\", StringType(), True),\n",
    "    StructField(\"DOLocationID\", StringType(), True),\n",
    "    StructField(\"passenger_count\", IntegerType(), True),\n",
    "    StructField(\"trip_distance\", FloatType(), True),\n",
    "    StructField(\"fare_amount\", FloatType(), True),\n",
    "    StructField(\"extra\", FloatType(), True),\n",
    "    StructField(\"mta_tax\", FloatType(), True),\n",
    "    StructField(\"tip_amount\", FloatType(), True),\n",
    "    StructField(\"tolls_amount\", FloatType(), True),\n",
    "    StructField(\"ehail_fee\", StringType(), True),\n",
    "    StructField(\"improvement_surcharge\", FloatType(), True),\n",
    "    StructField(\"total_amount\", FloatType(), True),\n",
    "    StructField(\"payment_type\", IntegerType(), True),\n",
    "    StructField(\"trip_type\", IntegerType(), True),\n",
    "    StructField(\"congestion_surcharge\", StringType(), True),\n",
    "])"
   ]
  },
  {
   "cell_type": "code",
   "execution_count": 77,
   "metadata": {},
   "outputs": [
    {
     "data": {
      "text/plain": [
       "{'dispatching_base_num': Utf8,\n",
       " 'pickup_datetime': Datetime(time_unit='us', time_zone=None),\n",
       " 'dropOff_datetime': Datetime(time_unit='us', time_zone=None),\n",
       " 'PUlocationID': Utf8,\n",
       " 'DOlocationID': Int64,\n",
       " 'SR_Flag': Utf8,\n",
       " 'Affiliated_base_number': Utf8}"
      ]
     },
     "execution_count": 77,
     "metadata": {},
     "output_type": "execute_result"
    }
   ],
   "source": [
    "fhv_batch.next_batches(1)[0].schema"
   ]
  },
  {
   "cell_type": "code",
   "execution_count": null,
   "metadata": {},
   "outputs": [],
   "source": [
    "# {'dispatching_base_num': Utf8,\n",
    "#  'pickup_datetime': Datetime(time_unit='us', time_zone=None),\n",
    "#  'dropOff_datetime': Datetime(time_unit='us', time_zone=None),\n",
    "#  'PUlocationID': Utf8,\n",
    "#  'DOlocationID': Int64,\n",
    "#  'SR_Flag': Utf8,\n",
    "#  'Affiliated_base_number': Utf8}\n",
    "\n",
    "FHV_SCHEMA = StructType([\n",
    "    StructField(\"dispatching_base_num\", StringType(), True),\n",
    "    StructField(\"pickup_datetime\", TimestampType(), True),\n",
    "    StructField(\"dropOff_datetime\", TimestampType(), True),\n",
    "    StructField(\"PUlocationID\", StringType(), True),\n",
    "    StructField(\"DOlocationID\", StringType(), True),\n",
    "    StructField(\"SR_Flag\", StringType(), True),\n",
    "    StructField(\"Affiliated_base_number\", StringType(), True),\n",
    "])"
   ]
  }
 ],
 "metadata": {
  "kernelspec": {
   "display_name": "de",
   "language": "python",
   "name": "python3"
  },
  "language_info": {
   "codemirror_mode": {
    "name": "ipython",
    "version": 3
   },
   "file_extension": ".py",
   "mimetype": "text/x-python",
   "name": "python",
   "nbconvert_exporter": "python",
   "pygments_lexer": "ipython3",
   "version": "3.10.9"
  },
  "orig_nbformat": 4
 },
 "nbformat": 4,
 "nbformat_minor": 2
}
